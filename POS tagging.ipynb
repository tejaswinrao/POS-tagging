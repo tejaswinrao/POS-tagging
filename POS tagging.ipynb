{
 "cells": [
  {
   "cell_type": "code",
   "execution_count": 8,
   "metadata": {},
   "outputs": [
    {
     "name": "stdout",
     "output_type": "stream",
     "text": [
      "['time', 'astronomers', 'corona', 'supermassive', 'hole', 'disappear', 'fading', 'factor', 'days', 'times', 'brighter', 'Scientists', 'hypothesize', 'rogue', 'star', 'hole', 'torn', 'debris', 'briefly', 'gas'] 20\n",
      "['witnessed', 'began', 'reappearing', 'growing', 'have', 'come', 'been', 'dispersing'] 8\n",
      "['ultrabright', 'black', 'black'] 3\n"
     ]
    }
   ],
   "source": [
    "#POS tagging and counting using NLTK\n",
    "\n",
    "import nltk\n",
    "from nltk import word_tokenize\n",
    "import pandas as pd\n",
    "text = 'For the first time, astronomers witnessed the ultrabright corona around a supermassive black hole disappear, fading by a factor of 10,000 in 40 days. Almost immediately, it began reappearing, eventually growing 20 times brighter. Scientists hypothesize that a rogue star might have come too close to the black hole and been torn apart, with its debris briefly dispersing the gas.'\n",
    "tokens = nltk.word_tokenize(text)\n",
    "#text = nltk.Text(tokens)\n",
    "#tags = nltk.pos_tag(text)\n",
    "Nouns =[]\n",
    "Verbs = []\n",
    "Adjectives = []\n",
    "for word in tokens:\n",
    "     for word,pos in nltk.pos_tag(nltk.word_tokenize(str(word))):\n",
    "        if (pos == 'NN' or pos == 'NNP' or pos == 'NNS' or pos == 'NNPS'):\n",
    "             Nouns.append(word)\n",
    "        if (pos == 'VB' or pos == 'VBN' or pos == 'VBD' or pos == 'VBG'):\n",
    "            Verbs.append(word)\n",
    "        if (pos == 'JJ'):\n",
    "            Adjectives.append(word)\n",
    "print(Nouns, len(Nouns))\n",
    "print(Verbs, len(Verbs))\n",
    "print(Adjectives, len(Adjectives))\n",
    "\n"
   ]
  },
  {
   "cell_type": "code",
   "execution_count": 6,
   "metadata": {},
   "outputs": [
    {
     "name": "stdout",
     "output_type": "stream",
     "text": [
      "Counter({'NN': 12, 'IN': 7, 'DT': 7, 'JJ': 7, ',': 5, 'RB': 5, 'NNS': 4, 'CD': 3, '.': 3, 'VBG': 3, 'VBD': 2, 'VBN': 2, 'NNP': 1, 'PRP': 1, 'VBP': 1, 'MD': 1, 'VB': 1, 'TO': 1, 'CC': 1, 'PRP$': 1})\n",
      ".\n"
     ]
    }
   ],
   "source": [
    "from collections import Counter\n",
    "counts = Counter(tag for word,tag in tags)\n",
    "print(counts)\n",
    "print(word)"
   ]
  },
  {
   "cell_type": "code",
   "execution_count": 2,
   "metadata": {},
   "outputs": [
    {
     "name": "stdout",
     "output_type": "stream",
     "text": [
      "For          ADP        conjunction, subordinating or preposition\n",
      "the          DET        determiner\n",
      "first        ADJ        adjective\n",
      "time         NOUN       noun, singular or mass\n",
      ",            PUNCT      punctuation mark, comma\n",
      "astronomers  NOUN       noun, plural\n",
      "witnessed    VERB       verb, past tense\n",
      "the          DET        determiner\n",
      "ultrabright  ADJ        adjective\n",
      "corona       NOUN       noun, singular or mass\n",
      "around       ADP        conjunction, subordinating or preposition\n",
      "a            DET        determiner\n",
      "supermassive ADJ        adjective\n",
      "black        ADJ        adjective\n",
      "hole         NOUN       noun, singular or mass\n",
      "disappear    VERB       verb, base form\n",
      ",            PUNCT      punctuation mark, comma\n",
      "fading       VERB       verb, gerund or present participle\n",
      "by           ADP        conjunction, subordinating or preposition\n",
      "a            DET        determiner\n",
      "factor       NOUN       noun, singular or mass\n",
      "of           ADP        conjunction, subordinating or preposition\n",
      "10,000       NUM        cardinal number\n",
      "in           ADP        conjunction, subordinating or preposition\n",
      "40           NUM        cardinal number\n",
      "days         NOUN       noun, plural\n",
      ".            PUNCT      punctuation mark, sentence closer\n",
      "Almost       ADV        adverb\n",
      "immediately  ADV        adverb\n",
      ",            PUNCT      punctuation mark, comma\n",
      "it           PRON       pronoun, personal\n",
      "began        VERB       verb, past tense\n",
      "reappearing  VERB       verb, gerund or present participle\n",
      ",            PUNCT      punctuation mark, comma\n",
      "eventually   ADV        adverb\n",
      "growing      VERB       verb, gerund or present participle\n",
      "20           NUM        cardinal number\n",
      "times        NOUN       noun, plural\n",
      "brighter     ADJ        adjective, comparative\n",
      ".            PUNCT      punctuation mark, sentence closer\n",
      "Scientists   NOUN       noun, plural\n",
      "hypothesize  VERB       verb, non-3rd person singular present\n",
      "that         SCONJ      conjunction, subordinating or preposition\n",
      "a            DET        determiner\n",
      "rogue        ADJ        adjective\n",
      "star         NOUN       noun, singular or mass\n",
      "might        VERB       verb, modal auxiliary\n",
      "have         AUX        verb, base form\n",
      "come         VERB       verb, past participle\n",
      "too          ADV        adverb\n",
      "close        ADV        adverb\n",
      "to           ADP        conjunction, subordinating or preposition\n",
      "the          DET        determiner\n",
      "black        ADJ        adjective\n",
      "hole         NOUN       noun, singular or mass\n",
      "and          CCONJ      conjunction, coordinating\n",
      "been         AUX        verb, past participle\n",
      "torn         VERB       verb, past participle\n",
      "apart        ADV        adverb\n",
      ",            PUNCT      punctuation mark, comma\n",
      "with         ADP        conjunction, subordinating or preposition\n",
      "its          DET        pronoun, possessive\n",
      "debris       NOUN       noun, singular or mass\n",
      "briefly      ADV        adverb\n",
      "dispersing   VERB       verb, gerund or present participle\n",
      "the          DET        determiner\n",
      "gas          NOUN       noun, singular or mass\n",
      ".            PUNCT      punctuation mark, sentence closer\n",
      "Counter({'NOUN': 12, 'VERB': 11, 'DET': 8, 'PUNCT': 8, 'ADP': 7, 'ADJ': 7, 'ADV': 7, 'NUM': 3, 'AUX': 2, 'PRON': 1, 'SCONJ': 1, 'CCONJ': 1})\n"
     ]
    }
   ],
   "source": [
    "#POS tagging and counting using spacy\n",
    "\n",
    "import en_core_web_sm\n",
    "import spacy\n",
    "from collections import Counter\n",
    "a = en_core_web_sm.load()\n",
    "Nouns =[]\n",
    "Verbs = []\n",
    "Adjectives = []\n",
    "news = a(\"For the first time, astronomers witnessed the ultrabright corona around a supermassive black hole disappear, fading by a factor of 10,000 in 40 days. Almost immediately, it began reappearing, eventually growing 20 times brighter. Scientists hypothesize that a rogue star might have come too close to the black hole and been torn apart, with its debris briefly dispersing the gas.\")\n",
    "for word in news:\n",
    "    print(f'{word.text:{12}} {word.pos_:{10}} {spacy.explain(word.tag_)}')  \n",
    "    \n",
    "    \n",
    "counts = Counter(word.pos_ for word in news)\n",
    "print(counts)"
   ]
  },
  {
   "cell_type": "code",
   "execution_count": null,
   "metadata": {},
   "outputs": [],
   "source": []
  }
 ],
 "metadata": {
  "kernelspec": {
   "display_name": "Python 3",
   "language": "python",
   "name": "python3"
  },
  "language_info": {
   "codemirror_mode": {
    "name": "ipython",
    "version": 3
   },
   "file_extension": ".py",
   "mimetype": "text/x-python",
   "name": "python",
   "nbconvert_exporter": "python",
   "pygments_lexer": "ipython3",
   "version": "3.7.3"
  }
 },
 "nbformat": 4,
 "nbformat_minor": 2
}
